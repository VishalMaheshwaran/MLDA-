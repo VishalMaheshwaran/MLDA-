{
  "nbformat": 4,
  "nbformat_minor": 0,
  "metadata": {
    "colab": {
      "provenance": [],
      "authorship_tag": "ABX9TyNgw+BXT3lJwvCXACv7rBYP",
      "include_colab_link": true
    },
    "kernelspec": {
      "name": "python3",
      "display_name": "Python 3"
    },
    "language_info": {
      "name": "python"
    }
  },
  "cells": [
    {
      "cell_type": "markdown",
      "metadata": {
        "id": "view-in-github",
        "colab_type": "text"
      },
      "source": [
        "<a href=\"https://colab.research.google.com/github/VishalMaheshwaran/MLDA-/blob/main/Multiple_Linear_Regression.ipynb\" target=\"_parent\"><img src=\"https://colab.research.google.com/assets/colab-badge.svg\" alt=\"Open In Colab\"/></a>"
      ]
    },
    {
      "cell_type": "code",
      "execution_count": 1,
      "metadata": {
        "colab": {
          "base_uri": "https://localhost:8080/"
        },
        "id": "x7zsiNV64HpO",
        "outputId": "a369b349-ff22-4fb0-ee98-668d7fd0e6e1"
      },
      "outputs": [
        {
          "output_type": "stream",
          "name": "stdout",
          "text": [
            "First 5 rows:\n",
            "    Education  JoiningYear       City  PaymentTier  Age  Gender EverBenched  \\\n",
            "0  Bachelors         2017  Bangalore            3   34    Male          No   \n",
            "1  Bachelors         2013       Pune            1   28  Female          No   \n",
            "2  Bachelors         2014  New Delhi            3   38  Female          No   \n",
            "3    Masters         2016  Bangalore            3   27    Male          No   \n",
            "4    Masters         2017       Pune            3   24    Male         Yes   \n",
            "\n",
            "   ExperienceInCurrentDomain  LeaveOrNot  \n",
            "0                          0           0  \n",
            "1                          3           1  \n",
            "2                          2           0  \n",
            "3                          5           1  \n",
            "4                          2           1  \n",
            "\n",
            "After Encoding:\n",
            "    Education  JoiningYear  City  PaymentTier  Age  Gender  EverBenched  \\\n",
            "0          0         2017     0            3   34       1            0   \n",
            "1          0         2013     2            1   28       0            0   \n",
            "2          0         2014     1            3   38       0            0   \n",
            "3          1         2016     0            3   27       1            0   \n",
            "4          1         2017     2            3   24       1            1   \n",
            "\n",
            "   ExperienceInCurrentDomain  LeaveOrNot  \n",
            "0                          0           0  \n",
            "1                          3           1  \n",
            "2                          2           0  \n",
            "3                          5           1  \n",
            "4                          2           1  \n",
            "\n",
            "Linear Regression MSE: 0.18656560466647215\n",
            "Linear Regression R2: 0.1349471467666873\n"
          ]
        }
      ],
      "source": [
        "import pandas as pd\n",
        "from sklearn.preprocessing import LabelEncoder\n",
        "from sklearn.model_selection import train_test_split\n",
        "from sklearn.linear_model import LinearRegression\n",
        "from sklearn.metrics import mean_squared_error, r2_score\n",
        "\n",
        "# Load dataset\n",
        "data = pd.read_csv(\"Employee.csv\")   # <-- change to your file name\n",
        "print(\"First 5 rows:\\n\", data.head())\n",
        "\n",
        "# Encode categorical columns\n",
        "le = LabelEncoder()\n",
        "categorical_cols = [\"Education\", \"City\", \"Gender\", \"EverBenched\"]\n",
        "\n",
        "for col in categorical_cols:\n",
        "    data[col] = le.fit_transform(data[col])\n",
        "\n",
        "print(\"\\nAfter Encoding:\\n\", data.head())\n",
        "\n",
        "# Features (independent variables)\n",
        "X = data[[\n",
        "    \"Education\",\n",
        "    \"JoiningYear\",\n",
        "    \"City\",\n",
        "    \"PaymentTier\",\n",
        "    \"Age\",\n",
        "    \"Gender\",\n",
        "    \"EverBenched\",\n",
        "    \"ExperienceInCurrentDomain\"\n",
        "]]\n",
        "\n",
        "# Target (dependent variable → Leave or Not)\n",
        "y = data[\"LeaveOrNot\"]\n",
        "\n",
        "# Train-test split\n",
        "x_train, x_test, y_train, y_test = train_test_split(X, y, test_size=0.2, random_state=2)\n",
        "\n",
        "# Linear Regression Model\n",
        "lrr = LinearRegression()\n",
        "lrr.fit(x_train, y_train)\n",
        "y_lrr_pred = lrr.predict(x_test)\n",
        "\n",
        "# Evaluation\n",
        "mse = mean_squared_error(y_test, y_lrr_pred)\n",
        "r2 = r2_score(y_test, y_lrr_pred)\n",
        "\n",
        "print(\"\\nLinear Regression MSE:\", mse)\n",
        "print(\"Linear Regression R2:\", r2)\n"
      ]
    }
  ]
}
{
  "nbformat": 4,
  "nbformat_minor": 0,
  "metadata": {
    "colab": {
      "provenance": [],
      "authorship_tag": "ABX9TyO3lTetXmPJVFV3QdHmjyeE",
      "include_colab_link": true
    },
    "kernelspec": {
      "name": "python3",
      "display_name": "Python 3"
    },
    "language_info": {
      "name": "python"
    }
  },
  "cells": [
    {
      "cell_type": "markdown",
      "metadata": {
        "id": "view-in-github",
        "colab_type": "text"
      },
      "source": [
        "<a href=\"https://colab.research.google.com/github/VishalMaheshwaran/MLDA-/blob/main/Preprocessing.ipynb\" target=\"_parent\"><img src=\"https://colab.research.google.com/assets/colab-badge.svg\" alt=\"Open In Colab\"/></a>"
      ]
    },
    {
      "cell_type": "code",
      "source": [
        "import pandas as pd\n",
        "import numpy as np\n",
        "from sklearn.model_selection import train_test_split\n",
        "from sklearn.preprocessing import StandardScaler\n",
        "from sklearn.compose import ColumnTransformer\n",
        "from sklearn.pipeline import Pipeline\n",
        "from sklearn.impute import SimpleImputer\n",
        "\n",
        "# Load the dataset\n",
        "data = pd.read_csv(\"student_exam_scores.csv\", encoding=\"latin1\")\n",
        "\n",
        "# Display the first few rows of the dataset\n",
        "print(data.head())\n",
        "\n",
        "# Drop student_id (not useful for ML)\n",
        "data = data.drop(columns=[\"student_id\"])\n",
        "\n",
        "# Numeric features (all remaining except target)\n",
        "num_features = [\"hours_studied\", \"sleep_hours\", \"attendance_percent\", \"previous_scores\"]\n",
        "\n",
        "# Numeric transformer\n",
        "num_transformer = Pipeline(steps=[\n",
        "    (\"imputer\", SimpleImputer(strategy=\"mean\")),\n",
        "    (\"scaler\", StandardScaler())\n",
        "])\n",
        "\n",
        "# Preprocessor (only numeric)\n",
        "preprocessor = ColumnTransformer(\n",
        "    transformers=[\n",
        "        (\"num\", num_transformer, num_features)\n",
        "    ]\n",
        ")\n",
        "preprocessor.set_output(transform=\"pandas\")\n",
        "\n",
        "# Apply transformations to features\n",
        "X = preprocessor.fit_transform(data)\n",
        "\n",
        "# Output (target) → exam_score\n",
        "y = data[[\"exam_score\"]]\n",
        "\n",
        "print(\"Processed Features:\")\n",
        "print(X.head())\n",
        "\n",
        "print(\"Target Variable:\")\n",
        "print(y.head())\n",
        "\n",
        "# 2. Feature Engineering example: efficiency score (previous vs current)\n",
        "X[\"efficiency_score\"] = data[\"exam_score\"] / (data[\"previous_scores\"] + 1)\n",
        "\n",
        "# 3. Train-Test Split\n",
        "X_train, X_test, y_train, y_test = train_test_split(X, y, test_size=0.2, random_state=42)\n",
        "\n",
        "# Display processed training data\n",
        "print(\"Training Features:\")\n",
        "print(X_train.head())\n",
        "print(\"Training Target:\")\n",
        "print(y_train.head())"
      ],
      "metadata": {
        "colab": {
          "base_uri": "https://localhost:8080/"
        },
        "id": "8jv3l5xIv8tf",
        "outputId": "a968a529-7ce3-4ed1-9e8e-435f297ac48b"
      },
      "execution_count": 10,
      "outputs": [
        {
          "output_type": "stream",
          "name": "stdout",
          "text": [
            "  student_id  hours_studied  sleep_hours  attendance_percent  previous_scores  \\\n",
            "0       S001            8.0          8.8                72.1               45   \n",
            "1       S002            1.3          8.6                60.7               55   \n",
            "2       S003            4.0          8.2                73.7               86   \n",
            "3       S004            3.5          4.8                95.1               66   \n",
            "4       S005            9.1          6.4                89.8               71   \n",
            "\n",
            "   exam_score  \n",
            "0        30.2  \n",
            "1        25.0  \n",
            "2        35.8  \n",
            "3        34.0  \n",
            "4        40.3  \n",
            "Processed Features:\n",
            "   num__hours_studied  num__sleep_hours  num__attendance_percent  \\\n",
            "0            0.520154          1.458426                -0.192061   \n",
            "1           -1.561083          1.324503                -0.994074   \n",
            "2           -0.722376          1.056656                -0.079498   \n",
            "3           -0.877692         -1.220042                 1.426035   \n",
            "4            0.861850         -0.148655                 1.053170   \n",
            "\n",
            "   num__previous_scores  \n",
            "0             -1.395230  \n",
            "1             -0.755216  \n",
            "2              1.228827  \n",
            "3             -0.051201  \n",
            "4              0.268806  \n",
            "Target Variable:\n",
            "   exam_score\n",
            "0        30.2\n",
            "1        25.0\n",
            "2        35.8\n",
            "3        34.0\n",
            "4        40.3\n",
            "Training Features:\n",
            "     num__hours_studied  num__sleep_hours  num__attendance_percent  \\\n",
            "79            -0.815565          0.253115                 0.947642   \n",
            "197           -1.467893          0.186154                -0.775983   \n",
            "38             1.296735          0.253115                -0.142815   \n",
            "24             1.607367         -1.554851                -0.009146   \n",
            "122            1.017166          0.989694                 0.539600   \n",
            "\n",
            "     num__previous_scores  efficiency_score  \n",
            "79               1.100824          0.402353  \n",
            "197              0.588813          0.366234  \n",
            "38              -0.499211          0.663333  \n",
            "24               0.652814          0.502564  \n",
            "122              1.484832          0.484615  \n",
            "Training Target:\n",
            "     exam_score\n",
            "79         34.2\n",
            "197        28.2\n",
            "38         39.8\n",
            "24         39.2\n",
            "122        44.1\n"
          ]
        }
      ]
    }
  ]
}
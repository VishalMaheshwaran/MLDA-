{
  "nbformat": 4,
  "nbformat_minor": 0,
  "metadata": {
    "colab": {
      "provenance": [],
      "authorship_tag": "ABX9TyMi0DNQz2jntLRRB+2dAOV9",
      "include_colab_link": true
    },
    "kernelspec": {
      "name": "python3",
      "display_name": "Python 3"
    },
    "language_info": {
      "name": "python"
    }
  },
  "cells": [
    {
      "cell_type": "markdown",
      "metadata": {
        "id": "view-in-github",
        "colab_type": "text"
      },
      "source": [
        "<a href=\"https://colab.research.google.com/github/VishalMaheshwaran/MLDA-/blob/main/Metrices.ipynb\" target=\"_parent\"><img src=\"https://colab.research.google.com/assets/colab-badge.svg\" alt=\"Open In Colab\"/></a>"
      ]
    },
    {
      "cell_type": "code",
      "execution_count": 2,
      "metadata": {
        "colab": {
          "base_uri": "https://localhost:8080/"
        },
        "id": "_o6bmWRs2oy4",
        "outputId": "610cbebb-7b8b-4f59-82ea-83ed11b2a44d"
      },
      "outputs": [
        {
          "output_type": "stream",
          "name": "stdout",
          "text": [
            "   Age Attrition              Department  DistanceFromHome  Education  \\\n",
            "0   41       Yes                   Sales                 1          2   \n",
            "1   49        No  Research & Development                 8          1   \n",
            "2   37       Yes  Research & Development                 2          2   \n",
            "3   33        No  Research & Development                 3          4   \n",
            "4   27        No  Research & Development                 2          1   \n",
            "\n",
            "  EducationField  EnvironmentSatisfaction  JobSatisfaction MaritalStatus  \\\n",
            "0  Life Sciences                        2                4        Single   \n",
            "1  Life Sciences                        3                2       Married   \n",
            "2          Other                        4                3        Single   \n",
            "3  Life Sciences                        4                3       Married   \n",
            "4        Medical                        1                2       Married   \n",
            "\n",
            "   MonthlyIncome  NumCompaniesWorked  WorkLifeBalance  YearsAtCompany  \n",
            "0           5993                   8                1               6  \n",
            "1           5130                   1                3              10  \n",
            "2           2090                   6                3               0  \n",
            "3           2909                   1                3               8  \n",
            "4           3468                   9                3               2  \n",
            "After Encoding:\n",
            "    Age  Attrition  Department  DistanceFromHome  Education  EducationField  \\\n",
            "0   41          1           2                 1          2               1   \n",
            "1   49          0           1                 8          1               1   \n",
            "2   37          1           1                 2          2               4   \n",
            "3   33          0           1                 3          4               1   \n",
            "4   27          0           1                 2          1               3   \n",
            "\n",
            "   EnvironmentSatisfaction  JobSatisfaction  MaritalStatus  MonthlyIncome  \\\n",
            "0                        2                4              2           5993   \n",
            "1                        3                2              1           5130   \n",
            "2                        4                3              2           2090   \n",
            "3                        4                3              1           2909   \n",
            "4                        1                2              1           3468   \n",
            "\n",
            "   NumCompaniesWorked  WorkLifeBalance  YearsAtCompany  \n",
            "0                   8                1               6  \n",
            "1                   1                3              10  \n",
            "2                   6                3               0  \n",
            "3                   1                3               8  \n",
            "4                   9                3               2  \n",
            "Decision Tree Accuracy: 0.7517006802721088\n",
            "Linear Regression MSE: 0.11104356059517237\n",
            "Linear Regression R2: 0.0348756959673886\n"
          ]
        }
      ],
      "source": [
        "import pandas as pd\n",
        "from sklearn.preprocessing import LabelEncoder\n",
        "from sklearn.model_selection import train_test_split\n",
        "from sklearn.tree import DecisionTreeClassifier\n",
        "from sklearn.linear_model import LinearRegression\n",
        "from sklearn.metrics import accuracy_score, mean_squared_error, r2_score\n",
        "\n",
        "# Load dataset\n",
        "data = pd.read_csv(\"Attrition Data.csv\")   # change to your file name\n",
        "print(data.head())\n",
        "\n",
        "# Encode categorical columns\n",
        "le = LabelEncoder()\n",
        "categorical_cols = [\"Attrition\", \"Department\", \"EducationField\", \"MaritalStatus\"]\n",
        "\n",
        "for col in categorical_cols:\n",
        "    data[col] = le.fit_transform(data[col])\n",
        "\n",
        "print(\"After Encoding:\\n\", data.head())\n",
        "\n",
        "# Features (independent variables)\n",
        "X = data[[\n",
        "    \"Age\",\n",
        "    \"DistanceFromHome\",\n",
        "    \"Education\",\n",
        "    \"EnvironmentSatisfaction\",\n",
        "    \"JobSatisfaction\",\n",
        "    \"MonthlyIncome\",\n",
        "    \"NumCompaniesWorked\",\n",
        "    \"WorkLifeBalance\",\n",
        "    \"YearsAtCompany\",\n",
        "    \"Department\",\n",
        "    \"EducationField\",\n",
        "    \"MaritalStatus\"\n",
        "]]\n",
        "\n",
        "# Target (dependent variable → whether an employee left)\n",
        "y = data[\"Attrition\"]\n",
        "\n",
        "# Train-test split\n",
        "X_train, X_test, y_train, y_test = train_test_split(\n",
        "    X, y, test_size=0.2, random_state=42\n",
        ")\n",
        "\n",
        "# 1. Decision Tree Classifier\n",
        "dt = DecisionTreeClassifier(criterion=\"entropy\", random_state=42)\n",
        "dt.fit(X_train, y_train)\n",
        "y_dt_pred = dt.predict(X_test)\n",
        "accuracy_dt = accuracy_score(y_test, y_dt_pred)\n",
        "print(\"Decision Tree Accuracy:\", accuracy_dt)\n",
        "\n",
        "# 2. Linear Regression (just for comparison, though attrition is categorical)\n",
        "lrr = LinearRegression()\n",
        "lrr.fit(X_train, y_train)\n",
        "y_lrr_pred = lrr.predict(X_test)\n",
        "\n",
        "mse = mean_squared_error(y_test, y_lrr_pred)\n",
        "r2 = r2_score(y_test, y_lrr_pred)\n",
        "\n",
        "print(\"Linear Regression MSE:\", mse)\n",
        "print(\"Linear Regression R2:\", r2)\n"
      ]
    }
  ]
}